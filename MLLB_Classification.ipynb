{
 "cells": [
  {
   "cell_type": "code",
   "execution_count": 1,
   "metadata": {},
   "outputs": [],
   "source": [
    "import numpy as np\n",
    "import pandas as pd\n",
    "import matplotlib.pyplot as plt\n",
    "from sklearn.linear_model import LogisticRegression\n",
    "from sklearn.metrics import classification_report, confusion_matrix"
   ]
  },
  {
   "cell_type": "markdown",
   "metadata": {},
   "source": [
    "### Read the file"
   ]
  },
  {
   "cell_type": "code",
   "execution_count": 58,
   "metadata": {},
   "outputs": [
    {
     "data": {
      "text/plain": [
       "['Patient',\n",
       " 'Gender',\n",
       " 'IAH',\n",
       " 'Weight',\n",
       " 'Height',\n",
       " 'Age',\n",
       " 'Cervical',\n",
       " 'OSA',\n",
       " 'BMI']"
      ]
     },
     "execution_count": 58,
     "metadata": {},
     "output_type": "execute_result"
    }
   ],
   "source": [
    "file = pd.ExcelFile('OSA_extreme_male.xlsx')\n",
    "df = file.parse('Sheet1')\n",
    "df.columns.tolist()"
   ]
  },
  {
   "cell_type": "markdown",
   "metadata": {},
   "source": [
    "### Get the data"
   ]
  },
  {
   "cell_type": "code",
   "execution_count": 3,
   "metadata": {},
   "outputs": [
    {
     "data": {
      "text/plain": [
       "['Age', 'Cervical', 'BMI']"
      ]
     },
     "execution_count": 3,
     "metadata": {},
     "output_type": "execute_result"
    }
   ],
   "source": [
    "columns = df.columns.tolist()\n",
    "columns = [c for c in columns if c not in [\"Patient\",\"OSA\",\"IAH\",'Weight', 'Height','Gender']]\n",
    "target = \"OSA\"\n",
    "columns"
   ]
  },
  {
   "cell_type": "markdown",
   "metadata": {},
   "source": [
    "## Logistic regression"
   ]
  },
  {
   "cell_type": "markdown",
   "metadata": {},
   "source": [
    "### Create and fit the model"
   ]
  },
  {
   "cell_type": "code",
   "execution_count": 4,
   "metadata": {},
   "outputs": [
    {
     "data": {
      "text/plain": [
       "LogisticRegression(C=15.0, random_state=0, solver='liblinear')"
      ]
     },
     "execution_count": 4,
     "metadata": {},
     "output_type": "execute_result"
    }
   ],
   "source": [
    "model = LogisticRegression(solver='liblinear', C=15.0, random_state=0) #default value of C=1.0\n",
    "model.fit(df[columns], df[target])"
   ]
  },
  {
   "cell_type": "code",
   "execution_count": 5,
   "metadata": {},
   "outputs": [],
   "source": [
    "model = LogisticRegression(solver='liblinear',C=15.0, random_state=0).fit(df[columns], df[target])"
   ]
  },
  {
   "cell_type": "code",
   "execution_count": 6,
   "metadata": {},
   "outputs": [
    {
     "data": {
      "text/plain": [
       "array(['Healthy', 'Severe'], dtype=object)"
      ]
     },
     "execution_count": 6,
     "metadata": {},
     "output_type": "execute_result"
    }
   ],
   "source": [
    "model.classes_"
   ]
  },
  {
   "cell_type": "code",
   "execution_count": 7,
   "metadata": {},
   "outputs": [
    {
     "data": {
      "text/plain": [
       "array([-9.37982023])"
      ]
     },
     "execution_count": 7,
     "metadata": {},
     "output_type": "execute_result"
    }
   ],
   "source": [
    "model.intercept_"
   ]
  },
  {
   "cell_type": "code",
   "execution_count": 8,
   "metadata": {},
   "outputs": [
    {
     "data": {
      "text/plain": [
       "array([[0.04997754, 0.06355781, 0.14430661]])"
      ]
     },
     "execution_count": 8,
     "metadata": {},
     "output_type": "execute_result"
    }
   ],
   "source": [
    "model.coef_"
   ]
  },
  {
   "cell_type": "markdown",
   "metadata": {},
   "source": [
    "### Evaluate the model"
   ]
  },
  {
   "cell_type": "code",
   "execution_count": 9,
   "metadata": {},
   "outputs": [
    {
     "data": {
      "text/plain": [
       "array([[0.79913894, 0.20086106],\n",
       "       [0.6800346 , 0.3199654 ],\n",
       "       [0.60253845, 0.39746155],\n",
       "       [0.05527544, 0.94472456],\n",
       "       [0.73687703, 0.26312297],\n",
       "       [0.48212959, 0.51787041],\n",
       "       [0.40177694, 0.59822306],\n",
       "       [0.21659837, 0.78340163],\n",
       "       [0.72698025, 0.27301975],\n",
       "       [0.22732643, 0.77267357],\n",
       "       [0.65783874, 0.34216126],\n",
       "       [0.17754725, 0.82245275],\n",
       "       [0.51616101, 0.48383899],\n",
       "       [0.31924681, 0.68075319],\n",
       "       [0.49903539, 0.50096461],\n",
       "       [0.3496697 , 0.6503303 ],\n",
       "       [0.4949566 , 0.5050434 ],\n",
       "       [0.11574479, 0.88425521],\n",
       "       [0.78740875, 0.21259125],\n",
       "       [0.77156935, 0.22843065],\n",
       "       [0.49032915, 0.50967085],\n",
       "       [0.35060814, 0.64939186],\n",
       "       [0.63718171, 0.36281829],\n",
       "       [0.72687554, 0.27312446],\n",
       "       [0.46665171, 0.53334829],\n",
       "       [0.58761826, 0.41238174],\n",
       "       [0.85038149, 0.14961851],\n",
       "       [0.63709544, 0.36290456],\n",
       "       [0.1570587 , 0.8429413 ],\n",
       "       [0.72250918, 0.27749082],\n",
       "       [0.73780624, 0.26219376],\n",
       "       [0.71198203, 0.28801797],\n",
       "       [0.47425211, 0.52574789],\n",
       "       [0.18409619, 0.81590381],\n",
       "       [0.75240482, 0.24759518],\n",
       "       [0.21888756, 0.78111244],\n",
       "       [0.32466   , 0.67534   ],\n",
       "       [0.65826704, 0.34173296],\n",
       "       [0.31873348, 0.68126652],\n",
       "       [0.63189108, 0.36810892],\n",
       "       [0.65654356, 0.34345644],\n",
       "       [0.55725992, 0.44274008],\n",
       "       [0.43541816, 0.56458184],\n",
       "       [0.88107838, 0.11892162],\n",
       "       [0.32287686, 0.67712314],\n",
       "       [0.69447414, 0.30552586],\n",
       "       [0.83363333, 0.16636667],\n",
       "       [0.43200636, 0.56799364],\n",
       "       [0.82316083, 0.17683917],\n",
       "       [0.09295444, 0.90704556],\n",
       "       [0.17040862, 0.82959138],\n",
       "       [0.57862586, 0.42137414],\n",
       "       [0.22811264, 0.77188736],\n",
       "       [0.74084656, 0.25915344],\n",
       "       [0.78963149, 0.21036851],\n",
       "       [0.52369564, 0.47630436],\n",
       "       [0.05804652, 0.94195348],\n",
       "       [0.79653192, 0.20346808],\n",
       "       [0.02806197, 0.97193803],\n",
       "       [0.5622436 , 0.4377564 ],\n",
       "       [0.71494   , 0.28506   ],\n",
       "       [0.76379917, 0.23620083],\n",
       "       [0.60698858, 0.39301142],\n",
       "       [0.38198411, 0.61801589],\n",
       "       [0.48821952, 0.51178048],\n",
       "       [0.74491528, 0.25508472],\n",
       "       [0.67278159, 0.32721841],\n",
       "       [0.33656764, 0.66343236],\n",
       "       [0.65840616, 0.34159384],\n",
       "       [0.72239969, 0.27760031],\n",
       "       [0.74445187, 0.25554813],\n",
       "       [0.88796285, 0.11203715],\n",
       "       [0.64177116, 0.35822884],\n",
       "       [0.77692431, 0.22307569],\n",
       "       [0.04095259, 0.95904741],\n",
       "       [0.62915855, 0.37084145],\n",
       "       [0.87835915, 0.12164085],\n",
       "       [0.45443334, 0.54556666],\n",
       "       [0.27301708, 0.72698292],\n",
       "       [0.40617732, 0.59382268],\n",
       "       [0.52568694, 0.47431306],\n",
       "       [0.86664661, 0.13335339],\n",
       "       [0.07598242, 0.92401758],\n",
       "       [0.60041307, 0.39958693],\n",
       "       [0.43445915, 0.56554085],\n",
       "       [0.35395356, 0.64604644],\n",
       "       [0.13357025, 0.86642975],\n",
       "       [0.70592136, 0.29407864],\n",
       "       [0.78084359, 0.21915641],\n",
       "       [0.60698858, 0.39301142],\n",
       "       [0.52980469, 0.47019531],\n",
       "       [0.31247713, 0.68752287],\n",
       "       [0.63033278, 0.36966722],\n",
       "       [0.72828748, 0.27171252],\n",
       "       [0.46028765, 0.53971235],\n",
       "       [0.57805644, 0.42194356],\n",
       "       [0.64605785, 0.35394215],\n",
       "       [0.51054566, 0.48945434],\n",
       "       [0.29257689, 0.70742311],\n",
       "       [0.619227  , 0.380773  ],\n",
       "       [0.65568336, 0.34431664],\n",
       "       [0.78870056, 0.21129944],\n",
       "       [0.36806826, 0.63193174],\n",
       "       [0.32080608, 0.67919392],\n",
       "       [0.29334537, 0.70665463],\n",
       "       [0.64187541, 0.35812459],\n",
       "       [0.51293757, 0.48706243],\n",
       "       [0.1727929 , 0.8272071 ],\n",
       "       [0.67698236, 0.32301764],\n",
       "       [0.57857099, 0.42142901],\n",
       "       [0.52851678, 0.47148322],\n",
       "       [0.31390487, 0.68609513],\n",
       "       [0.69704491, 0.30295509],\n",
       "       [0.51425015, 0.48574985],\n",
       "       [0.09892038, 0.90107962],\n",
       "       [0.62634449, 0.37365551],\n",
       "       [0.10468376, 0.89531624],\n",
       "       [0.46984786, 0.53015214],\n",
       "       [0.72157621, 0.27842379],\n",
       "       [0.81943314, 0.18056686],\n",
       "       [0.61295712, 0.38704288],\n",
       "       [0.47457811, 0.52542189],\n",
       "       [0.84071584, 0.15928416],\n",
       "       [0.24712165, 0.75287835],\n",
       "       [0.18324239, 0.81675761],\n",
       "       [0.54074613, 0.45925387],\n",
       "       [0.51479554, 0.48520446],\n",
       "       [0.66646178, 0.33353822],\n",
       "       [0.66596336, 0.33403664],\n",
       "       [0.51687209, 0.48312791],\n",
       "       [0.56966169, 0.43033831],\n",
       "       [0.47012052, 0.52987948],\n",
       "       [0.55792042, 0.44207958],\n",
       "       [0.15629102, 0.84370898],\n",
       "       [0.4930028 , 0.5069972 ],\n",
       "       [0.14513259, 0.85486741],\n",
       "       [0.42471695, 0.57528305],\n",
       "       [0.82333614, 0.17666386],\n",
       "       [0.15975151, 0.84024849],\n",
       "       [0.26404959, 0.73595041],\n",
       "       [0.86277167, 0.13722833],\n",
       "       [0.8854615 , 0.1145385 ],\n",
       "       [0.5218024 , 0.4781976 ],\n",
       "       [0.25168711, 0.74831289],\n",
       "       [0.27668562, 0.72331438],\n",
       "       [0.06273505, 0.93726495],\n",
       "       [0.16256619, 0.83743381],\n",
       "       [0.11628194, 0.88371806],\n",
       "       [0.72847562, 0.27152438],\n",
       "       [0.25416473, 0.74583527],\n",
       "       [0.42420232, 0.57579768],\n",
       "       [0.4678692 , 0.5321308 ],\n",
       "       [0.65843946, 0.34156054],\n",
       "       [0.88530951, 0.11469049],\n",
       "       [0.74463022, 0.25536978],\n",
       "       [0.4411391 , 0.5588609 ],\n",
       "       [0.38609044, 0.61390956],\n",
       "       [0.33530087, 0.66469913],\n",
       "       [0.59499058, 0.40500942],\n",
       "       [0.52878159, 0.47121841],\n",
       "       [0.43673743, 0.56326257],\n",
       "       [0.15953161, 0.84046839],\n",
       "       [0.5113696 , 0.4886304 ],\n",
       "       [0.36156565, 0.63843435],\n",
       "       [0.76147557, 0.23852443],\n",
       "       [0.08125289, 0.91874711],\n",
       "       [0.5471855 , 0.4528145 ],\n",
       "       [0.55745733, 0.44254267],\n",
       "       [0.448922  , 0.551078  ],\n",
       "       [0.48430361, 0.51569639],\n",
       "       [0.77684239, 0.22315761],\n",
       "       [0.44223431, 0.55776569],\n",
       "       [0.78308623, 0.21691377],\n",
       "       [0.83724991, 0.16275009],\n",
       "       [0.79966428, 0.20033572],\n",
       "       [0.18664186, 0.81335814],\n",
       "       [0.38221886, 0.61778114],\n",
       "       [0.1519169 , 0.8480831 ],\n",
       "       [0.83484166, 0.16515834],\n",
       "       [0.16611478, 0.83388522],\n",
       "       [0.68804894, 0.31195106],\n",
       "       [0.39402462, 0.60597538],\n",
       "       [0.88863309, 0.11136691],\n",
       "       [0.81711352, 0.18288648],\n",
       "       [0.79779941, 0.20220059],\n",
       "       [0.05357593, 0.94642407],\n",
       "       [0.57087289, 0.42912711],\n",
       "       [0.88242678, 0.11757322],\n",
       "       [0.72264093, 0.27735907],\n",
       "       [0.53327735, 0.46672265],\n",
       "       [0.65618652, 0.34381348],\n",
       "       [0.37187689, 0.62812311],\n",
       "       [0.66344961, 0.33655039],\n",
       "       [0.53282474, 0.46717526],\n",
       "       [0.59720399, 0.40279601],\n",
       "       [0.87958586, 0.12041414],\n",
       "       [0.44451748, 0.55548252],\n",
       "       [0.19052728, 0.80947272],\n",
       "       [0.30536129, 0.69463871],\n",
       "       [0.49954894, 0.50045106],\n",
       "       [0.08744841, 0.91255159],\n",
       "       [0.51961227, 0.48038773],\n",
       "       [0.58744548, 0.41255452],\n",
       "       [0.16310423, 0.83689577],\n",
       "       [0.88742759, 0.11257241],\n",
       "       [0.4192301 , 0.5807699 ],\n",
       "       [0.55863625, 0.44136375],\n",
       "       [0.42863416, 0.57136584],\n",
       "       [0.88190901, 0.11809099],\n",
       "       [0.38417793, 0.61582207],\n",
       "       [0.20019053, 0.79980947],\n",
       "       [0.70423894, 0.29576106],\n",
       "       [0.26835947, 0.73164053],\n",
       "       [0.62255962, 0.37744038],\n",
       "       [0.93879991, 0.06120009],\n",
       "       [0.75834257, 0.24165743],\n",
       "       [0.27249229, 0.72750771],\n",
       "       [0.41997117, 0.58002883],\n",
       "       [0.57754017, 0.42245983],\n",
       "       [0.46647197, 0.53352803],\n",
       "       [0.32224304, 0.67775696],\n",
       "       [0.16927406, 0.83072594],\n",
       "       [0.70054996, 0.29945004],\n",
       "       [0.47463799, 0.52536201],\n",
       "       [0.22716959, 0.77283041],\n",
       "       [0.74948889, 0.25051111],\n",
       "       [0.19688375, 0.80311625],\n",
       "       [0.62955675, 0.37044325],\n",
       "       [0.46223871, 0.53776129],\n",
       "       [0.22786361, 0.77213639],\n",
       "       [0.91274277, 0.08725723],\n",
       "       [0.44422165, 0.55577835],\n",
       "       [0.42295282, 0.57704718],\n",
       "       [0.45816047, 0.54183953],\n",
       "       [0.64519707, 0.35480293],\n",
       "       [0.4506131 , 0.5493869 ],\n",
       "       [0.90126234, 0.09873766],\n",
       "       [0.36660481, 0.63339519],\n",
       "       [0.84524187, 0.15475813],\n",
       "       [0.89041032, 0.10958968],\n",
       "       [0.60160146, 0.39839854],\n",
       "       [0.35738898, 0.64261102],\n",
       "       [0.47851576, 0.52148424],\n",
       "       [0.21268474, 0.78731526],\n",
       "       [0.41157475, 0.58842525],\n",
       "       [0.11265267, 0.88734733],\n",
       "       [0.31736501, 0.68263499],\n",
       "       [0.6210582 , 0.3789418 ],\n",
       "       [0.71914667, 0.28085333],\n",
       "       [0.08571871, 0.91428129],\n",
       "       [0.032512  , 0.967488  ],\n",
       "       [0.68449114, 0.31550886],\n",
       "       [0.22529038, 0.77470962],\n",
       "       [0.84834716, 0.15165284],\n",
       "       [0.63424597, 0.36575403],\n",
       "       [0.46419833, 0.53580167],\n",
       "       [0.34657903, 0.65342097],\n",
       "       [0.37958379, 0.62041621],\n",
       "       [0.33920136, 0.66079864],\n",
       "       [0.45207253, 0.54792747],\n",
       "       [0.57516436, 0.42483564],\n",
       "       [0.31971311, 0.68028689],\n",
       "       [0.80948775, 0.19051225],\n",
       "       [0.25753671, 0.74246329],\n",
       "       [0.55721605, 0.44278395],\n",
       "       [0.58190095, 0.41809905],\n",
       "       [0.8221753 , 0.1778247 ],\n",
       "       [0.87579833, 0.12420167],\n",
       "       [0.39687913, 0.60312087],\n",
       "       [0.19550494, 0.80449506],\n",
       "       [0.35624738, 0.64375262],\n",
       "       [0.28577725, 0.71422275],\n",
       "       [0.34329365, 0.65670635],\n",
       "       [0.80256882, 0.19743118],\n",
       "       [0.45220702, 0.54779298],\n",
       "       [0.52345824, 0.47654176],\n",
       "       [0.55057604, 0.44942396]])"
      ]
     },
     "execution_count": 9,
     "metadata": {},
     "output_type": "execute_result"
    }
   ],
   "source": [
    "model.predict_proba(df[columns])"
   ]
  },
  {
   "cell_type": "code",
   "execution_count": 10,
   "metadata": {},
   "outputs": [
    {
     "data": {
      "text/plain": [
       "array(['Healthy', 'Healthy', 'Healthy', 'Severe', 'Healthy', 'Severe',\n",
       "       'Severe', 'Severe', 'Healthy', 'Severe', 'Healthy', 'Severe',\n",
       "       'Healthy', 'Severe', 'Severe', 'Severe', 'Severe', 'Severe',\n",
       "       'Healthy', 'Healthy', 'Severe', 'Severe', 'Healthy', 'Healthy',\n",
       "       'Severe', 'Healthy', 'Healthy', 'Healthy', 'Severe', 'Healthy',\n",
       "       'Healthy', 'Healthy', 'Severe', 'Severe', 'Healthy', 'Severe',\n",
       "       'Severe', 'Healthy', 'Severe', 'Healthy', 'Healthy', 'Healthy',\n",
       "       'Severe', 'Healthy', 'Severe', 'Healthy', 'Healthy', 'Severe',\n",
       "       'Healthy', 'Severe', 'Severe', 'Healthy', 'Severe', 'Healthy',\n",
       "       'Healthy', 'Healthy', 'Severe', 'Healthy', 'Severe', 'Healthy',\n",
       "       'Healthy', 'Healthy', 'Healthy', 'Severe', 'Severe', 'Healthy',\n",
       "       'Healthy', 'Severe', 'Healthy', 'Healthy', 'Healthy', 'Healthy',\n",
       "       'Healthy', 'Healthy', 'Severe', 'Healthy', 'Healthy', 'Severe',\n",
       "       'Severe', 'Severe', 'Healthy', 'Healthy', 'Severe', 'Healthy',\n",
       "       'Severe', 'Severe', 'Severe', 'Healthy', 'Healthy', 'Healthy',\n",
       "       'Healthy', 'Severe', 'Healthy', 'Healthy', 'Severe', 'Healthy',\n",
       "       'Healthy', 'Healthy', 'Severe', 'Healthy', 'Healthy', 'Healthy',\n",
       "       'Severe', 'Severe', 'Severe', 'Healthy', 'Healthy', 'Severe',\n",
       "       'Healthy', 'Healthy', 'Healthy', 'Severe', 'Healthy', 'Healthy',\n",
       "       'Severe', 'Healthy', 'Severe', 'Severe', 'Healthy', 'Healthy',\n",
       "       'Healthy', 'Severe', 'Healthy', 'Severe', 'Severe', 'Healthy',\n",
       "       'Healthy', 'Healthy', 'Healthy', 'Healthy', 'Healthy', 'Severe',\n",
       "       'Healthy', 'Severe', 'Severe', 'Severe', 'Severe', 'Healthy',\n",
       "       'Severe', 'Severe', 'Healthy', 'Healthy', 'Healthy', 'Severe',\n",
       "       'Severe', 'Severe', 'Severe', 'Severe', 'Healthy', 'Severe',\n",
       "       'Severe', 'Severe', 'Healthy', 'Healthy', 'Healthy', 'Severe',\n",
       "       'Severe', 'Severe', 'Healthy', 'Healthy', 'Severe', 'Severe',\n",
       "       'Healthy', 'Severe', 'Healthy', 'Severe', 'Healthy', 'Healthy',\n",
       "       'Severe', 'Severe', 'Healthy', 'Severe', 'Healthy', 'Healthy',\n",
       "       'Healthy', 'Severe', 'Severe', 'Severe', 'Healthy', 'Severe',\n",
       "       'Healthy', 'Severe', 'Healthy', 'Healthy', 'Healthy', 'Severe',\n",
       "       'Healthy', 'Healthy', 'Healthy', 'Healthy', 'Healthy', 'Severe',\n",
       "       'Healthy', 'Healthy', 'Healthy', 'Healthy', 'Severe', 'Severe',\n",
       "       'Severe', 'Severe', 'Severe', 'Healthy', 'Healthy', 'Severe',\n",
       "       'Healthy', 'Severe', 'Healthy', 'Severe', 'Healthy', 'Severe',\n",
       "       'Severe', 'Healthy', 'Severe', 'Healthy', 'Healthy', 'Healthy',\n",
       "       'Severe', 'Severe', 'Healthy', 'Severe', 'Severe', 'Severe',\n",
       "       'Healthy', 'Severe', 'Severe', 'Healthy', 'Severe', 'Healthy',\n",
       "       'Severe', 'Severe', 'Healthy', 'Severe', 'Severe', 'Severe',\n",
       "       'Healthy', 'Severe', 'Healthy', 'Severe', 'Healthy', 'Healthy',\n",
       "       'Healthy', 'Severe', 'Severe', 'Severe', 'Severe', 'Severe',\n",
       "       'Severe', 'Healthy', 'Healthy', 'Severe', 'Severe', 'Healthy',\n",
       "       'Severe', 'Healthy', 'Healthy', 'Severe', 'Severe', 'Severe',\n",
       "       'Severe', 'Severe', 'Healthy', 'Severe', 'Healthy', 'Severe',\n",
       "       'Healthy', 'Healthy', 'Healthy', 'Healthy', 'Severe', 'Severe',\n",
       "       'Severe', 'Severe', 'Severe', 'Healthy', 'Severe', 'Healthy',\n",
       "       'Healthy'], dtype=object)"
      ]
     },
     "execution_count": 10,
     "metadata": {},
     "output_type": "execute_result"
    }
   ],
   "source": [
    "model.predict(df[columns])"
   ]
  },
  {
   "cell_type": "code",
   "execution_count": 11,
   "metadata": {},
   "outputs": [
    {
     "data": {
      "text/plain": [
       "0.7220216606498195"
      ]
     },
     "execution_count": 11,
     "metadata": {},
     "output_type": "execute_result"
    }
   ],
   "source": [
    "model.score(df[columns], df[target])"
   ]
  },
  {
   "cell_type": "code",
   "execution_count": 12,
   "metadata": {},
   "outputs": [
    {
     "data": {
      "text/plain": [
       "array([[104,  37],\n",
       "       [ 40,  96]], dtype=int64)"
      ]
     },
     "execution_count": 12,
     "metadata": {},
     "output_type": "execute_result"
    }
   ],
   "source": [
    "confusion_matrix(df[target], model.predict(df[columns]))"
   ]
  },
  {
   "cell_type": "code",
   "execution_count": 13,
   "metadata": {},
   "outputs": [
    {
     "data": {
      "image/png": "[encoded data removed]",
      "text/plain": [
       "<Figure size 288x288 with 1 Axes>"
      ]
     },
     "metadata": {
      "needs_background": "light"
     },
     "output_type": "display_data"
    }
   ],
   "source": [
    "cm = confusion_matrix(df[target], model.predict(df[columns]))\n",
    "\n",
    "fig, ax = plt.subplots(figsize=(4, 4))\n",
    "ax.imshow(cm)\n",
    "ax.grid(False)\n",
    "ax.xaxis.set(ticks=(0, 1), ticklabels=('Predicted Healthy', 'Predicted Severe'))\n",
    "ax.yaxis.set(ticks=(0, 1), ticklabels=('Actual Healthy', 'Actual Severe'))\n",
    "ax.set_ylim(1.5, -0.5)\n",
    "for i in range(2):\n",
    "    for j in range(2):\n",
    "        ax.text(j, i, cm[i, j], ha='center', va='center', color='red')\n",
    "plt.show()"
   ]
  },
  {
   "cell_type": "code",
   "execution_count": 14,
   "metadata": {
    "scrolled": true
   },
   "outputs": [
    {
     "name": "stdout",
     "output_type": "stream",
     "text": [
      "              precision    recall  f1-score   support\n",
      "\n",
      "     Healthy       0.72      0.74      0.73       141\n",
      "      Severe       0.72      0.71      0.71       136\n",
      "\n",
      "    accuracy                           0.72       277\n",
      "   macro avg       0.72      0.72      0.72       277\n",
      "weighted avg       0.72      0.72      0.72       277\n",
      "\n"
     ]
    }
   ],
   "source": [
    "print(classification_report(df[target], model.predict(df[columns])))"
   ]
  },
  {
   "cell_type": "markdown",
   "metadata": {},
   "source": [
    "### Split train and test sets"
   ]
  },
  {
   "cell_type": "code",
   "execution_count": 15,
   "metadata": {},
   "outputs": [],
   "source": [
    "from sklearn.model_selection import train_test_split\n",
    "\n",
    "X_train, X_test, y_train, y_test = train_test_split(df[columns], df[target], test_size=0.2, random_state=0)"
   ]
  },
  {
   "cell_type": "markdown",
   "metadata": {},
   "source": [
    "### Cross-validation"
   ]
  },
  {
   "cell_type": "code",
   "execution_count": 16,
   "metadata": {},
   "outputs": [
    {
     "name": "stdout",
     "output_type": "stream",
     "text": [
      "0.703971119133574\n"
     ]
    }
   ],
   "source": [
    "from sklearn import metrics, model_selection\n",
    "\n",
    "predicted = model_selection.cross_val_predict(model, df[columns], df[target], cv=10)\n",
    "metrics.accuracy_score(df[target], predicted)\n",
    "print(metrics.accuracy_score(df[target], predicted))"
   ]
  },
  {
   "cell_type": "code",
   "execution_count": 17,
   "metadata": {},
   "outputs": [
    {
     "name": "stdout",
     "output_type": "stream",
     "text": [
      "[0.71428571 0.67857143 0.85714286 0.60714286 0.57142857 0.71428571\n",
      " 0.75       0.77777778 0.66666667 0.7037037 ]\n",
      "0.7041005291005291\n"
     ]
    }
   ],
   "source": [
    "from sklearn.model_selection import cross_val_score\n",
    "\n",
    "accuracy = cross_val_score(model, df[columns], df[target], cv=10,scoring='accuracy')\n",
    "print(accuracy)\n",
    "print(cross_val_score(model, df[columns], df[target], cv=10,scoring='accuracy').mean())"
   ]
  },
  {
   "cell_type": "markdown",
   "metadata": {},
   "source": [
    "### Confusion matrix"
   ]
  },
  {
   "cell_type": "code",
   "execution_count": 18,
   "metadata": {},
   "outputs": [
    {
     "name": "stdout",
     "output_type": "stream",
     "text": [
      "        |   H     |\n",
      "        |   e   S |\n",
      "        |   a   e |\n",
      "        |   l   v |\n",
      "        |   t   e |\n",
      "        |   h   r |\n",
      "        |   y   e |\n",
      "--------+---------+\n",
      "Healthy |<103> 38 |\n",
      " Severe |  44 <92>|\n",
      "--------+---------+\n",
      "(row = reference; col = test)\n",
      "\n"
     ]
    }
   ],
   "source": [
    "from nltk import ConfusionMatrix \n",
    "print(ConfusionMatrix(list(df[target]), list(predicted)))"
   ]
  },
  {
   "cell_type": "code",
   "execution_count": 19,
   "metadata": {},
   "outputs": [
    {
     "data": {
      "image/png": "[encoded data removed]",
      "text/plain": [
       "<Figure size 432x288 with 1 Axes>"
      ]
     },
     "metadata": {
      "needs_background": "light"
     },
     "output_type": "display_data"
    }
   ],
   "source": [
    "probs = model.predict_proba(df[columns])[:, 1] \n",
    "plt.hist(probs) \n",
    "plt.show()"
   ]
  },
  {
   "cell_type": "code",
   "execution_count": 20,
   "metadata": {},
   "outputs": [
    {
     "name": "stdout",
     "output_type": "stream",
     "text": [
      "0.703971119133574\n"
     ]
    }
   ],
   "source": [
    "print (metrics.accuracy_score(df[target], predicted)) "
   ]
  },
  {
   "cell_type": "code",
   "execution_count": 28,
   "metadata": {},
   "outputs": [
    {
     "data": {
      "image/png": "[encoded data removed]",
      "text/plain": [
       "<Figure size 432x288 with 1 Axes>"
      ]
     },
     "metadata": {
      "needs_background": "light"
     },
     "output_type": "display_data"
    }
   ],
   "source": [
    "#ROC CURVES and AUC \n",
    "# plot ROC curve \n",
    "\n",
    "from sklearn.preprocessing import label_binarize\n",
    "from sklearn.metrics import roc_curve\n",
    "\n",
    "y = label_binarize(df[target], classes=['Healthy', 'Severe'])\n",
    "fpr, tpr, thresholds = roc_curve(y, probs) \n",
    "plt.plot(fpr, tpr) \n",
    "plt.xlim([0.0, 1.0]) \n",
    "plt.ylim([0.0, 1.0]) \n",
    "plt.xlabel('False Positive Rate') \n",
    "plt.ylabel('True Positive Rate)') \n",
    "plt.show()"
   ]
  },
  {
   "cell_type": "code",
   "execution_count": 33,
   "metadata": {},
   "outputs": [
    {
     "name": "stdout",
     "output_type": "stream",
     "text": [
      "AUC: 0.795369\n"
     ]
    }
   ],
   "source": [
    "from sklearn.metrics import roc_auc_score\n",
    "\n",
    "# Calculate AUC\n",
    "auc = roc_auc_score(df[target],probs)\n",
    "print('AUC: %3f' % auc)"
   ]
  },
  {
   "cell_type": "markdown",
   "metadata": {},
   "source": [
    "## SVM"
   ]
  },
  {
   "cell_type": "code",
   "execution_count": 34,
   "metadata": {},
   "outputs": [],
   "source": [
    "from sklearn import svm\n",
    "\n",
    "#Create a svm Classifier\n",
    "clf = svm.SVC(kernel='linear') # Linear Kernel\n",
    "\n",
    "#Train the model using the training sets\n",
    "clf.fit(X_train, y_train)\n",
    "\n",
    "#Predict the response for test dataset\n",
    "y_pred = clf.predict(X_test)"
   ]
  },
  {
   "cell_type": "code",
   "execution_count": 35,
   "metadata": {},
   "outputs": [
    {
     "name": "stdout",
     "output_type": "stream",
     "text": [
      "Accuracy: 0.7142857142857143\n"
     ]
    }
   ],
   "source": [
    "print(\"Accuracy:\",metrics.accuracy_score(y_test, y_pred))"
   ]
  },
  {
   "cell_type": "code",
   "execution_count": 47,
   "metadata": {},
   "outputs": [
    {
     "data": {
      "image/png": "[encoded data removed]",
      "text/plain": [
       "<Figure size 288x288 with 1 Axes>"
      ]
     },
     "metadata": {
      "needs_background": "light"
     },
     "output_type": "display_data"
    }
   ],
   "source": [
    "cm_svm = confusion_matrix(y_test, y_pred)\n",
    "\n",
    "fig, ax = plt.subplots(figsize=(4, 4))\n",
    "ax.imshow(cm_svm)\n",
    "ax.grid(False)\n",
    "ax.xaxis.set(ticks=(0, 1), ticklabels=('Predicted Healthy', 'Predicted Severe'))\n",
    "ax.yaxis.set(ticks=(0, 1), ticklabels=('Actual Healthy', 'Actual Severe'))\n",
    "ax.set_ylim(1.5, -0.5)\n",
    "for i in range(2):\n",
    "    for j in range(2):\n",
    "        ax.text(j, i, cm_svm[i, j], ha='center', va='center', color='red')\n",
    "plt.show()"
   ]
  },
  {
   "cell_type": "code",
   "execution_count": 37,
   "metadata": {},
   "outputs": [
    {
     "name": "stdout",
     "output_type": "stream",
     "text": [
      "              precision    recall  f1-score   support\n",
      "\n",
      "     Healthy       0.80      0.71      0.75        34\n",
      "      Severe       0.62      0.73      0.67        22\n",
      "\n",
      "    accuracy                           0.71        56\n",
      "   macro avg       0.71      0.72      0.71        56\n",
      "weighted avg       0.73      0.71      0.72        56\n",
      "\n"
     ]
    }
   ],
   "source": [
    "print(classification_report(y_test, y_pred))"
   ]
  },
  {
   "cell_type": "code",
   "execution_count": 42,
   "metadata": {},
   "outputs": [
    {
     "data": {
      "text/plain": [
       "['Weight', 'Height', 'Age', 'Cervical', 'BMI', 'E_Form1']"
      ]
     },
     "execution_count": 42,
     "metadata": {},
     "output_type": "execute_result"
    }
   ],
   "source": [
    "file2 = 'OSA_Aggregated_UPM.xlsx'\n",
    "xl2 = pd.ExcelFile(file2)\n",
    "df_OSA_inner = xl2.parse('Sheet1')\n",
    "\n",
    "columns2 = df_OSA_inner.columns.tolist()\n",
    "columns2 = [c for c in columns2 if c in ['Weight', 'Height', 'Age', 'Cervical', 'BMI', 'E_Form1']]\n",
    "target = \"OSA\"\n",
    "columns2"
   ]
  },
  {
   "cell_type": "code",
   "execution_count": 44,
   "metadata": {},
   "outputs": [],
   "source": [
    "X_train2, X_test2, y_train2, y_test2 = train_test_split(df_OSA_inner[columns2], df_OSA_inner[target], test_size=0.2, random_state=0)"
   ]
  },
  {
   "cell_type": "code",
   "execution_count": 45,
   "metadata": {},
   "outputs": [],
   "source": [
    "clf2 = svm.SVC(kernel='linear') # Linear Kernel\n",
    "\n",
    "#Train the model using the training sets\n",
    "clf2.fit(X_train2, y_train2)\n",
    "\n",
    "#Predict the response for test dataset\n",
    "y_pred2 = clf2.predict(X_test2)"
   ]
  },
  {
   "cell_type": "code",
   "execution_count": 46,
   "metadata": {},
   "outputs": [
    {
     "name": "stdout",
     "output_type": "stream",
     "text": [
      "Accuracy: 0.7714285714285715\n"
     ]
    }
   ],
   "source": [
    "print(\"Accuracy:\",metrics.accuracy_score(y_test2, y_pred2))"
   ]
  },
  {
   "cell_type": "code",
   "execution_count": 48,
   "metadata": {},
   "outputs": [
    {
     "data": {
      "image/png": "[encoded data removed]",
      "text/plain": [
       "<Figure size 288x288 with 1 Axes>"
      ]
     },
     "metadata": {
      "needs_background": "light"
     },
     "output_type": "display_data"
    }
   ],
   "source": [
    "cm_svm2 = confusion_matrix(y_test2, y_pred2)\n",
    "\n",
    "fig, ax = plt.subplots(figsize=(4, 4))\n",
    "ax.imshow(cm_svm2)\n",
    "ax.grid(False)\n",
    "ax.xaxis.set(ticks=(0, 1), ticklabels=('Predicted Healthy', 'Predicted Severe'))\n",
    "ax.yaxis.set(ticks=(0, 1), ticklabels=('Actual Healthy', 'Actual Severe'))\n",
    "ax.set_ylim(1.5, -0.5)\n",
    "for i in range(2):\n",
    "    for j in range(2):\n",
    "        ax.text(j, i, cm_svm2[i, j], ha='center', va='center', color='red')\n",
    "plt.show()"
   ]
  },
  {
   "cell_type": "code",
   "execution_count": 49,
   "metadata": {},
   "outputs": [
    {
     "name": "stdout",
     "output_type": "stream",
     "text": [
      "              precision    recall  f1-score   support\n",
      "\n",
      "     Healthy       0.77      0.85      0.81        20\n",
      "      Severe       0.77      0.67      0.71        15\n",
      "\n",
      "    accuracy                           0.77        35\n",
      "   macro avg       0.77      0.76      0.76        35\n",
      "weighted avg       0.77      0.77      0.77        35\n",
      "\n"
     ]
    }
   ],
   "source": [
    "print(classification_report(y_test2, y_pred2))"
   ]
  },
  {
   "cell_type": "markdown",
   "metadata": {},
   "source": [
    "## KNN"
   ]
  },
  {
   "cell_type": "code",
   "execution_count": 50,
   "metadata": {},
   "outputs": [],
   "source": [
    "from sklearn.preprocessing import StandardScaler\n",
    "scaler = StandardScaler()\n",
    "scaler.fit(X_train)\n",
    "\n",
    "X_train = scaler.transform(X_train)\n",
    "X_test = scaler.transform(X_test)"
   ]
  },
  {
   "cell_type": "code",
   "execution_count": 51,
   "metadata": {},
   "outputs": [
    {
     "data": {
      "text/plain": [
       "KNeighborsClassifier()"
      ]
     },
     "execution_count": 51,
     "metadata": {},
     "output_type": "execute_result"
    }
   ],
   "source": [
    "from sklearn.neighbors import KNeighborsClassifier\n",
    "classifier = KNeighborsClassifier(n_neighbors=5)\n",
    "classifier.fit(X_train, y_train)"
   ]
  },
  {
   "cell_type": "code",
   "execution_count": 52,
   "metadata": {},
   "outputs": [],
   "source": [
    "y_pred_knn = classifier.predict(X_test)"
   ]
  },
  {
   "cell_type": "code",
   "execution_count": 54,
   "metadata": {},
   "outputs": [
    {
     "name": "stdout",
     "output_type": "stream",
     "text": [
      "Accuracy: 0.6785714285714286\n"
     ]
    }
   ],
   "source": [
    "print(\"Accuracy:\",metrics.accuracy_score(y_test, y_pred_knn))"
   ]
  },
  {
   "cell_type": "code",
   "execution_count": 55,
   "metadata": {},
   "outputs": [
    {
     "data": {
      "image/png": "[encoded data removed]",
      "text/plain": [
       "<Figure size 288x288 with 1 Axes>"
      ]
     },
     "metadata": {
      "needs_background": "light"
     },
     "output_type": "display_data"
    }
   ],
   "source": [
    "cm_knn = confusion_matrix(y_test, y_pred_knn)\n",
    "\n",
    "fig, ax = plt.subplots(figsize=(4, 4))\n",
    "ax.imshow(cm_knn)\n",
    "ax.grid(False)\n",
    "ax.xaxis.set(ticks=(0, 1), ticklabels=('Predicted Healthy', 'Predicted Severe'))\n",
    "ax.yaxis.set(ticks=(0, 1), ticklabels=('Actual Healthy', 'Actual Severe'))\n",
    "ax.set_ylim(1.5, -0.5)\n",
    "for i in range(2):\n",
    "    for j in range(2):\n",
    "        ax.text(j, i, cm_knn[i, j], ha='center', va='center', color='red')\n",
    "plt.show()"
   ]
  },
  {
   "cell_type": "code",
   "execution_count": 56,
   "metadata": {},
   "outputs": [
    {
     "name": "stdout",
     "output_type": "stream",
     "text": [
      "              precision    recall  f1-score   support\n",
      "\n",
      "     Healthy       0.79      0.65      0.71        34\n",
      "      Severe       0.57      0.73      0.64        22\n",
      "\n",
      "    accuracy                           0.68        56\n",
      "   macro avg       0.68      0.69      0.67        56\n",
      "weighted avg       0.70      0.68      0.68        56\n",
      "\n"
     ]
    }
   ],
   "source": [
    "print(classification_report(y_test, y_pred_knn))"
   ]
  },
  {
   "cell_type": "code",
   "execution_count": null,
   "metadata": {},
   "outputs": [],
   "source": []
  }
 ],
 "metadata": {
  "kernelspec": {
   "display_name": "Python 3",
   "language": "python",
   "name": "python3"
  },
  "language_info": {
   "codemirror_mode": {
    "name": "ipython",
    "version": 3
   },
   "file_extension": ".py",
   "mimetype": "text/x-python",
   "name": "python",
   "nbconvert_exporter": "python",
   "pygments_lexer": "ipython3",
   "version": "3.8.3"
  }
 },
 "nbformat": 4,
 "nbformat_minor": 4
}
